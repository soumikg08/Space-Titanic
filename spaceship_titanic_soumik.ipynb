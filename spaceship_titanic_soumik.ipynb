{
 "cells": [
  {
   "cell_type": "markdown",
   "metadata": {},
   "source": [
    "## Kaggle Spaceship Titanic Competition\n",
    "\n",
    "##### Submitted by: Soumik Ghosh"
   ]
  },
  {
   "cell_type": "code",
   "execution_count": 946,
   "metadata": {},
   "outputs": [],
   "source": [
    "import pandas as pd\n",
    "import numpy as np\n",
    "import random as rnd\n",
    "import re\n",
    "\n",
    "import seaborn as sns\n",
    "import matplotlib.pyplot as plt\n",
    "from sklearn import tree\n",
    "%matplotlib inline\n",
    "\n",
    "from sklearn.impute import KNNImputer\n",
    "from sklearn.preprocessing import MinMaxScaler\n",
    "from catboost import CatBoostClassifier\n",
    "from sklearn.model_selection import GridSearchCV\n"
   ]
  },
  {
   "cell_type": "markdown",
   "metadata": {},
   "source": [
    "We are reading the data into train_df and test_df from the .csv files."
   ]
  },
  {
   "cell_type": "code",
   "execution_count": 947,
   "metadata": {},
   "outputs": [],
   "source": [
    "train_df = pd.read_csv('train.csv')\n",
    "test_df = pd.read_csv('test.csv')\n",
    "train_test = pd.concat([train_df,test_df],axis=0,ignore_index=True)"
   ]
  },
  {
   "cell_type": "code",
   "execution_count": 948,
   "metadata": {},
   "outputs": [
    {
     "data": {
      "text/html": [
       "<div>\n",
       "<style scoped>\n",
       "    .dataframe tbody tr th:only-of-type {\n",
       "        vertical-align: middle;\n",
       "    }\n",
       "\n",
       "    .dataframe tbody tr th {\n",
       "        vertical-align: top;\n",
       "    }\n",
       "\n",
       "    .dataframe thead th {\n",
       "        text-align: right;\n",
       "    }\n",
       "</style>\n",
       "<table border=\"1\" class=\"dataframe\">\n",
       "  <thead>\n",
       "    <tr style=\"text-align: right;\">\n",
       "      <th></th>\n",
       "      <th>PassengerId</th>\n",
       "      <th>HomePlanet</th>\n",
       "      <th>CryoSleep</th>\n",
       "      <th>Cabin</th>\n",
       "      <th>Destination</th>\n",
       "      <th>Age</th>\n",
       "      <th>VIP</th>\n",
       "      <th>RoomService</th>\n",
       "      <th>FoodCourt</th>\n",
       "      <th>ShoppingMall</th>\n",
       "      <th>Spa</th>\n",
       "      <th>VRDeck</th>\n",
       "      <th>Name</th>\n",
       "      <th>Transported</th>\n",
       "    </tr>\n",
       "  </thead>\n",
       "  <tbody>\n",
       "    <tr>\n",
       "      <th>0</th>\n",
       "      <td>0001_01</td>\n",
       "      <td>Europa</td>\n",
       "      <td>False</td>\n",
       "      <td>B/0/P</td>\n",
       "      <td>TRAPPIST-1e</td>\n",
       "      <td>39.0</td>\n",
       "      <td>False</td>\n",
       "      <td>0.0</td>\n",
       "      <td>0.0</td>\n",
       "      <td>0.0</td>\n",
       "      <td>0.0</td>\n",
       "      <td>0.0</td>\n",
       "      <td>Maham Ofracculy</td>\n",
       "      <td>False</td>\n",
       "    </tr>\n",
       "    <tr>\n",
       "      <th>1</th>\n",
       "      <td>0002_01</td>\n",
       "      <td>Earth</td>\n",
       "      <td>False</td>\n",
       "      <td>F/0/S</td>\n",
       "      <td>TRAPPIST-1e</td>\n",
       "      <td>24.0</td>\n",
       "      <td>False</td>\n",
       "      <td>109.0</td>\n",
       "      <td>9.0</td>\n",
       "      <td>25.0</td>\n",
       "      <td>549.0</td>\n",
       "      <td>44.0</td>\n",
       "      <td>Juanna Vines</td>\n",
       "      <td>True</td>\n",
       "    </tr>\n",
       "    <tr>\n",
       "      <th>2</th>\n",
       "      <td>0003_01</td>\n",
       "      <td>Europa</td>\n",
       "      <td>False</td>\n",
       "      <td>A/0/S</td>\n",
       "      <td>TRAPPIST-1e</td>\n",
       "      <td>58.0</td>\n",
       "      <td>True</td>\n",
       "      <td>43.0</td>\n",
       "      <td>3576.0</td>\n",
       "      <td>0.0</td>\n",
       "      <td>6715.0</td>\n",
       "      <td>49.0</td>\n",
       "      <td>Altark Susent</td>\n",
       "      <td>False</td>\n",
       "    </tr>\n",
       "    <tr>\n",
       "      <th>3</th>\n",
       "      <td>0003_02</td>\n",
       "      <td>Europa</td>\n",
       "      <td>False</td>\n",
       "      <td>A/0/S</td>\n",
       "      <td>TRAPPIST-1e</td>\n",
       "      <td>33.0</td>\n",
       "      <td>False</td>\n",
       "      <td>0.0</td>\n",
       "      <td>1283.0</td>\n",
       "      <td>371.0</td>\n",
       "      <td>3329.0</td>\n",
       "      <td>193.0</td>\n",
       "      <td>Solam Susent</td>\n",
       "      <td>False</td>\n",
       "    </tr>\n",
       "    <tr>\n",
       "      <th>4</th>\n",
       "      <td>0004_01</td>\n",
       "      <td>Earth</td>\n",
       "      <td>False</td>\n",
       "      <td>F/1/S</td>\n",
       "      <td>TRAPPIST-1e</td>\n",
       "      <td>16.0</td>\n",
       "      <td>False</td>\n",
       "      <td>303.0</td>\n",
       "      <td>70.0</td>\n",
       "      <td>151.0</td>\n",
       "      <td>565.0</td>\n",
       "      <td>2.0</td>\n",
       "      <td>Willy Santantines</td>\n",
       "      <td>True</td>\n",
       "    </tr>\n",
       "  </tbody>\n",
       "</table>\n",
       "</div>"
      ],
      "text/plain": [
       "  PassengerId HomePlanet CryoSleep  Cabin  Destination   Age    VIP  \\\n",
       "0     0001_01     Europa     False  B/0/P  TRAPPIST-1e  39.0  False   \n",
       "1     0002_01      Earth     False  F/0/S  TRAPPIST-1e  24.0  False   \n",
       "2     0003_01     Europa     False  A/0/S  TRAPPIST-1e  58.0   True   \n",
       "3     0003_02     Europa     False  A/0/S  TRAPPIST-1e  33.0  False   \n",
       "4     0004_01      Earth     False  F/1/S  TRAPPIST-1e  16.0  False   \n",
       "\n",
       "   RoomService  FoodCourt  ShoppingMall     Spa  VRDeck               Name  \\\n",
       "0          0.0        0.0           0.0     0.0     0.0    Maham Ofracculy   \n",
       "1        109.0        9.0          25.0   549.0    44.0       Juanna Vines   \n",
       "2         43.0     3576.0           0.0  6715.0    49.0      Altark Susent   \n",
       "3          0.0     1283.0         371.0  3329.0   193.0       Solam Susent   \n",
       "4        303.0       70.0         151.0   565.0     2.0  Willy Santantines   \n",
       "\n",
       "   Transported  \n",
       "0        False  \n",
       "1         True  \n",
       "2        False  \n",
       "3        False  \n",
       "4         True  "
      ]
     },
     "execution_count": 948,
     "metadata": {},
     "output_type": "execute_result"
    }
   ],
   "source": [
    "train_df.head()"
   ]
  },
  {
   "cell_type": "markdown",
   "metadata": {},
   "source": [
    "#### **Data Preprocessing**"
   ]
  },
  {
   "cell_type": "markdown",
   "metadata": {},
   "source": [
    "Let us look at the correlation of the features."
   ]
  },
  {
   "cell_type": "code",
   "execution_count": 949,
   "metadata": {},
   "outputs": [
    {
     "name": "stdout",
     "output_type": "stream",
     "text": [
      "<class 'pandas.core.frame.DataFrame'>\n",
      "RangeIndex: 8693 entries, 0 to 8692\n",
      "Data columns (total 14 columns):\n",
      " #   Column        Non-Null Count  Dtype  \n",
      "---  ------        --------------  -----  \n",
      " 0   PassengerId   8693 non-null   object \n",
      " 1   HomePlanet    8492 non-null   object \n",
      " 2   CryoSleep     8476 non-null   object \n",
      " 3   Cabin         8494 non-null   object \n",
      " 4   Destination   8511 non-null   object \n",
      " 5   Age           8514 non-null   float64\n",
      " 6   VIP           8490 non-null   object \n",
      " 7   RoomService   8512 non-null   float64\n",
      " 8   FoodCourt     8510 non-null   float64\n",
      " 9   ShoppingMall  8485 non-null   float64\n",
      " 10  Spa           8510 non-null   float64\n",
      " 11  VRDeck        8505 non-null   float64\n",
      " 12  Name          8493 non-null   object \n",
      " 13  Transported   8693 non-null   bool   \n",
      "dtypes: bool(1), float64(6), object(7)\n",
      "memory usage: 891.5+ KB\n"
     ]
    },
    {
     "data": {
      "text/html": [
       "<div>\n",
       "<style scoped>\n",
       "    .dataframe tbody tr th:only-of-type {\n",
       "        vertical-align: middle;\n",
       "    }\n",
       "\n",
       "    .dataframe tbody tr th {\n",
       "        vertical-align: top;\n",
       "    }\n",
       "\n",
       "    .dataframe thead th {\n",
       "        text-align: right;\n",
       "    }\n",
       "</style>\n",
       "<table border=\"1\" class=\"dataframe\">\n",
       "  <thead>\n",
       "    <tr style=\"text-align: right;\">\n",
       "      <th></th>\n",
       "      <th>Age</th>\n",
       "      <th>RoomService</th>\n",
       "      <th>FoodCourt</th>\n",
       "      <th>ShoppingMall</th>\n",
       "      <th>Spa</th>\n",
       "      <th>VRDeck</th>\n",
       "    </tr>\n",
       "  </thead>\n",
       "  <tbody>\n",
       "    <tr>\n",
       "      <th>count</th>\n",
       "      <td>8514.000000</td>\n",
       "      <td>8512.000000</td>\n",
       "      <td>8510.000000</td>\n",
       "      <td>8485.000000</td>\n",
       "      <td>8510.000000</td>\n",
       "      <td>8505.000000</td>\n",
       "    </tr>\n",
       "    <tr>\n",
       "      <th>mean</th>\n",
       "      <td>28.827930</td>\n",
       "      <td>224.687617</td>\n",
       "      <td>458.077203</td>\n",
       "      <td>173.729169</td>\n",
       "      <td>311.138778</td>\n",
       "      <td>304.854791</td>\n",
       "    </tr>\n",
       "    <tr>\n",
       "      <th>std</th>\n",
       "      <td>14.489021</td>\n",
       "      <td>666.717663</td>\n",
       "      <td>1611.489240</td>\n",
       "      <td>604.696458</td>\n",
       "      <td>1136.705535</td>\n",
       "      <td>1145.717189</td>\n",
       "    </tr>\n",
       "    <tr>\n",
       "      <th>min</th>\n",
       "      <td>0.000000</td>\n",
       "      <td>0.000000</td>\n",
       "      <td>0.000000</td>\n",
       "      <td>0.000000</td>\n",
       "      <td>0.000000</td>\n",
       "      <td>0.000000</td>\n",
       "    </tr>\n",
       "    <tr>\n",
       "      <th>25%</th>\n",
       "      <td>19.000000</td>\n",
       "      <td>0.000000</td>\n",
       "      <td>0.000000</td>\n",
       "      <td>0.000000</td>\n",
       "      <td>0.000000</td>\n",
       "      <td>0.000000</td>\n",
       "    </tr>\n",
       "    <tr>\n",
       "      <th>50%</th>\n",
       "      <td>27.000000</td>\n",
       "      <td>0.000000</td>\n",
       "      <td>0.000000</td>\n",
       "      <td>0.000000</td>\n",
       "      <td>0.000000</td>\n",
       "      <td>0.000000</td>\n",
       "    </tr>\n",
       "    <tr>\n",
       "      <th>75%</th>\n",
       "      <td>38.000000</td>\n",
       "      <td>47.000000</td>\n",
       "      <td>76.000000</td>\n",
       "      <td>27.000000</td>\n",
       "      <td>59.000000</td>\n",
       "      <td>46.000000</td>\n",
       "    </tr>\n",
       "    <tr>\n",
       "      <th>max</th>\n",
       "      <td>79.000000</td>\n",
       "      <td>14327.000000</td>\n",
       "      <td>29813.000000</td>\n",
       "      <td>23492.000000</td>\n",
       "      <td>22408.000000</td>\n",
       "      <td>24133.000000</td>\n",
       "    </tr>\n",
       "  </tbody>\n",
       "</table>\n",
       "</div>"
      ],
      "text/plain": [
       "               Age   RoomService     FoodCourt  ShoppingMall           Spa  \\\n",
       "count  8514.000000   8512.000000   8510.000000   8485.000000   8510.000000   \n",
       "mean     28.827930    224.687617    458.077203    173.729169    311.138778   \n",
       "std      14.489021    666.717663   1611.489240    604.696458   1136.705535   \n",
       "min       0.000000      0.000000      0.000000      0.000000      0.000000   \n",
       "25%      19.000000      0.000000      0.000000      0.000000      0.000000   \n",
       "50%      27.000000      0.000000      0.000000      0.000000      0.000000   \n",
       "75%      38.000000     47.000000     76.000000     27.000000     59.000000   \n",
       "max      79.000000  14327.000000  29813.000000  23492.000000  22408.000000   \n",
       "\n",
       "             VRDeck  \n",
       "count   8505.000000  \n",
       "mean     304.854791  \n",
       "std     1145.717189  \n",
       "min        0.000000  \n",
       "25%        0.000000  \n",
       "50%        0.000000  \n",
       "75%       46.000000  \n",
       "max    24133.000000  "
      ]
     },
     "execution_count": 949,
     "metadata": {},
     "output_type": "execute_result"
    }
   ],
   "source": [
    "train_df.info()\n",
    "train_df.describe()"
   ]
  },
  {
   "cell_type": "code",
   "execution_count": 950,
   "metadata": {},
   "outputs": [
    {
     "data": {
      "image/png": "[encoded data removed]",
      "text/plain": [
       "<Figure size 432x288 with 2 Axes>"
      ]
     },
     "metadata": {
      "needs_background": "light"
     },
     "output_type": "display_data"
    }
   ],
   "source": [
    "sns.heatmap(train_df.corr())\n",
    "plt.show()\n",
    "\n"
   ]
  },
  {
   "cell_type": "markdown",
   "metadata": {},
   "source": [
    "Let us look at the percentage of missing values."
   ]
  },
  {
   "cell_type": "code",
   "execution_count": 951,
   "metadata": {},
   "outputs": [
    {
     "data": {
      "text/plain": [
       "PassengerId     0.000000\n",
       "HomePlanet      0.023122\n",
       "CryoSleep       0.024963\n",
       "Cabin           0.022892\n",
       "Destination     0.020936\n",
       "Age             0.020591\n",
       "VIP             0.023352\n",
       "RoomService     0.020821\n",
       "FoodCourt       0.021051\n",
       "ShoppingMall    0.023927\n",
       "Spa             0.021051\n",
       "VRDeck          0.021627\n",
       "Name            0.023007\n",
       "Transported     0.000000\n",
       "dtype: float64"
      ]
     },
     "execution_count": 951,
     "metadata": {},
     "output_type": "execute_result"
    }
   ],
   "source": [
    "train_df.isna().sum()/len(train_df)"
   ]
  },
  {
   "cell_type": "markdown",
   "metadata": {},
   "source": [
    "Let us extract \"GroupId\" from \"PassengerID\"."
   ]
  },
  {
   "cell_type": "code",
   "execution_count": 952,
   "metadata": {},
   "outputs": [],
   "source": [
    "train_df['GroupId'] = train_df.PassengerId.str.split('_',expand=True)[0].astype('int')\n",
    "test_df['GroupId'] = test_df.PassengerId.str.split('_',expand=True)[0].astype('int')"
   ]
  },
  {
   "cell_type": "markdown",
   "metadata": {},
   "source": [
    "Let is check if we have overlapping \"GroupId\"s between train and test data."
   ]
  },
  {
   "cell_type": "code",
   "execution_count": 953,
   "metadata": {},
   "outputs": [
    {
     "data": {
      "text/plain": [
       "0"
      ]
     },
     "execution_count": 953,
     "metadata": {},
     "output_type": "execute_result"
    }
   ],
   "source": [
    "len(set(train_df['GroupId'])) + len(set(test_df['GroupId'])) - len(set(list(train_df['GroupId'])+list(test_df['GroupId'])))"
   ]
  },
  {
   "cell_type": "markdown",
   "metadata": {},
   "source": [
    "Since there is none, let us drop \"GroupID\"."
   ]
  },
  {
   "cell_type": "code",
   "execution_count": 954,
   "metadata": {},
   "outputs": [],
   "source": [
    "train_df.drop(columns=['GroupId'], inplace=True)\n",
    "test_df.drop(columns=['GroupId'], inplace=True)"
   ]
  },
  {
   "cell_type": "markdown",
   "metadata": {},
   "source": [
    "Since \"PassengerId\" is nominal data, let us drop it."
   ]
  },
  {
   "cell_type": "code",
   "execution_count": 955,
   "metadata": {},
   "outputs": [],
   "source": [
    "train_df.drop(columns=['PassengerId'], inplace=True)\n",
    "test_df.drop(columns=['PassengerId'], inplace=True)"
   ]
  },
  {
   "cell_type": "markdown",
   "metadata": {},
   "source": [
    "Looking at \"HomePlanet\", we will fill the missing values with \"Unknown\" and rename the values."
   ]
  },
  {
   "cell_type": "code",
   "execution_count": 956,
   "metadata": {},
   "outputs": [],
   "source": [
    "train_df['HomePlanet'] = train_df['HomePlanet'].fillna(value='Unknown')\n",
    "test_df['HomePlanet'] = test_df['HomePlanet'].fillna(value='Unknown')"
   ]
  },
  {
   "cell_type": "code",
   "execution_count": 957,
   "metadata": {},
   "outputs": [],
   "source": [
    "home_planet = {'Earth':'X','Europa':'Y','Mars':'Z', \"Unknown\": 'U'}\n",
    "\n",
    "train_df['HomePlanet'] = train_df['HomePlanet'].map(home_planet)\n",
    "test_df['HomePlanet'] = test_df['HomePlanet'].map(home_planet)\n"
   ]
  },
  {
   "cell_type": "markdown",
   "metadata": {},
   "source": [
    "Looking at \"CryoSleep\", we will fill the missing values with \"False\" because if the values are not \"True\" they probably the passengers are not in cryosleep."
   ]
  },
  {
   "cell_type": "code",
   "execution_count": 958,
   "metadata": {},
   "outputs": [],
   "source": [
    "train_df['CryoSleep'] = train_df['CryoSleep'].fillna(value=False)\n",
    "test_df['CryoSleep'] = test_df['CryoSleep'].fillna(value=False)"
   ]
  },
  {
   "cell_type": "markdown",
   "metadata": {},
   "source": [
    "Let us extract the \"CabinDeck\", \"CabinNumber\" and \"CabinSide\" features from the Cabin feature for more resolution and subsequently drop the \"Cabin\" feature. "
   ]
  },
  {
   "cell_type": "code",
   "execution_count": 959,
   "metadata": {},
   "outputs": [],
   "source": [
    "train_df['CabinDeck'] = train_df['Cabin'].str.split('/',expand=True)[0]\n",
    "test_df['CabinDeck'] = test_df['Cabin'].str.split('/',expand=True)[0]\n",
    "\n",
    "train_df['CabinNumber'] = train_df['Cabin'].str.split('/',expand=True)[1]\n",
    "test_df['CabinNumber'] = test_df['Cabin'].str.split('/',expand=True)[1]\n",
    "\n",
    "train_df['CabinSide'] = train_df['Cabin'].str.split('/',expand=True)[2]\n",
    "test_df['CabinSide'] = test_df['Cabin'].str.split('/',expand=True)[2]\n",
    "\n",
    "train_df.drop(columns=['Cabin'], inplace=True)\n",
    "test_df.drop(columns=['Cabin'], inplace=True)\n"
   ]
  },
  {
   "cell_type": "markdown",
   "metadata": {},
   "source": [
    "Now, let us fill the missing \"CabinDeck\" and \"CabinSide\" values with \"U\""
   ]
  },
  {
   "cell_type": "code",
   "execution_count": 960,
   "metadata": {},
   "outputs": [],
   "source": [
    "train_df['CabinDeck'] = train_df['CabinDeck'].fillna('U')\n",
    "test_df['CabinDeck'] = test_df['CabinDeck'].fillna('U')\n",
    "\n",
    "train_df['CabinSide'] = train_df['CabinDeck'].fillna('U')\n",
    "test_df['CabinSide'] = test_df['CabinDeck'].fillna('U')"
   ]
  },
  {
   "cell_type": "markdown",
   "metadata": {},
   "source": [
    "For \"CabinNumber\", we cannot impute it, because there are many values of it, and imputing it will introduce unnecessary noise. So, we will drop it.."
   ]
  },
  {
   "cell_type": "code",
   "execution_count": 961,
   "metadata": {},
   "outputs": [],
   "source": [
    "train_df.drop(columns=['CabinNumber'], inplace=True)\n",
    "test_df.drop(columns=['CabinNumber'], inplace=True)"
   ]
  },
  {
   "cell_type": "markdown",
   "metadata": {},
   "source": [
    "For \"Destination\", let us find out the value counts."
   ]
  },
  {
   "cell_type": "code",
   "execution_count": 962,
   "metadata": {},
   "outputs": [
    {
     "data": {
      "text/plain": [
       "TRAPPIST-1e      5915\n",
       "55 Cancri e      1800\n",
       "PSO J318.5-22     796\n",
       "Name: Destination, dtype: int64"
      ]
     },
     "execution_count": 962,
     "metadata": {},
     "output_type": "execute_result"
    }
   ],
   "source": [
    "train_df.Destination.value_counts()"
   ]
  },
  {
   "cell_type": "markdown",
   "metadata": {},
   "source": [
    "Let us rename the \"Destination\" names, and fill the null Values with \"U\"."
   ]
  },
  {
   "cell_type": "code",
   "execution_count": 963,
   "metadata": {},
   "outputs": [],
   "source": [
    "dest = {'TRAPPIST-1e':'A','55 Cancri e':'B','PSO J318.5-22':'C'}\n",
    "\n",
    "train_df['Destination'] = train_df['Destination'].map(dest)\n",
    "train_df['Destination'] = train_df['Destination'].fillna(value='U')\n",
    "\n",
    "test_df['Destination'] = test_df['Destination'].map(dest)\n",
    "test_df['Destination'] = test_df['Destination'].fillna(value='U')"
   ]
  },
  {
   "cell_type": "markdown",
   "metadata": {},
   "source": [
    "For \"**Age**\", we use the KNN Imputer."
   ]
  },
  {
   "cell_type": "code",
   "execution_count": 964,
   "metadata": {},
   "outputs": [],
   "source": [
    "numerical_feat_names = ['Age']\n",
    "imp = KNNImputer(n_neighbors=4)\n",
    "imp.fit(train_df[numerical_feat_names])\n",
    "# Transform train train_df\n",
    "train_df[numerical_feat_names] = imp.transform(train_df[numerical_feat_names])\n",
    "# Transform the test train_df\n",
    "test_df[numerical_feat_names] = imp.transform(test_df[numerical_feat_names])\n"
   ]
  },
  {
   "cell_type": "code",
   "execution_count": 965,
   "metadata": {},
   "outputs": [
    {
     "data": {
      "text/plain": [
       "HomePlanet        0\n",
       "CryoSleep         0\n",
       "Destination       0\n",
       "Age               0\n",
       "VIP             203\n",
       "RoomService     181\n",
       "FoodCourt       183\n",
       "ShoppingMall    208\n",
       "Spa             183\n",
       "VRDeck          188\n",
       "Name            200\n",
       "Transported       0\n",
       "CabinDeck         0\n",
       "CabinSide         0\n",
       "dtype: int64"
      ]
     },
     "execution_count": 965,
     "metadata": {},
     "output_type": "execute_result"
    }
   ],
   "source": [
    "train_df.isna().sum()"
   ]
  },
  {
   "cell_type": "markdown",
   "metadata": {},
   "source": [
    "Let us define a new feature \"Adult\" and set it to 0 if the person is below 18 years old and set it to 1 if the person is above 18 years old."
   ]
  },
  {
   "cell_type": "code",
   "execution_count": 966,
   "metadata": {},
   "outputs": [],
   "source": [
    "train_df['Adult'] = 1\n",
    "train_df.loc[train_df['Age']<18, 'Adult'] = 0\n",
    "\n",
    "test_df['Adult'] = 1\n",
    "test_df.loc[test_df['Age']<18, 'Adult'] = 0"
   ]
  },
  {
   "cell_type": "markdown",
   "metadata": {},
   "source": [
    "For the \"VIP\" feature, let us fill the missing values with \"False\", because if the it is not know that a passenger is a VIP, he is most likely not a VIP."
   ]
  },
  {
   "cell_type": "code",
   "execution_count": 967,
   "metadata": {},
   "outputs": [],
   "source": [
    "train_df['VIP'] = train_df['VIP'].fillna(False)\n",
    "test_df['VIP'] = test_df['VIP'].fillna(False)"
   ]
  },
  {
   "cell_type": "markdown",
   "metadata": {},
   "source": [
    "For NULL values of \"RoomService\", \"FoodCourt\", \"ShoppingMall\", \"Spa\", \"VRDeck\", we can replace them by 0, because they probably have not spent any money there, and hence they have no record."
   ]
  },
  {
   "cell_type": "code",
   "execution_count": 968,
   "metadata": {},
   "outputs": [],
   "source": [
    "train_df[['RoomService','FoodCourt','ShoppingMall','Spa','VRDeck']] = train_df[['RoomService','FoodCourt','ShoppingMall','Spa','VRDeck']].fillna(0)\n",
    "test_df[['RoomService','FoodCourt','ShoppingMall','Spa','VRDeck']] = test_df[['RoomService','FoodCourt','ShoppingMall','Spa','VRDeck']].fillna(0)"
   ]
  },
  {
   "cell_type": "markdown",
   "metadata": {},
   "source": [
    "Let us define a new feature called \"TotalExpenditure\" to keep track of the total money spent by each passenger. "
   ]
  },
  {
   "cell_type": "code",
   "execution_count": 969,
   "metadata": {},
   "outputs": [],
   "source": [
    "train_df['TotalExpenditure'] = train_df['RoomService']+train_df['FoodCourt']+train_df['ShoppingMall']+train_df['Spa']+train_df['VRDeck']\n",
    "test_df['TotalExpenditure'] = test_df['RoomService']+test_df['FoodCourt']+test_df['ShoppingMall']+test_df['Spa']+test_df['VRDeck']"
   ]
  },
  {
   "cell_type": "markdown",
   "metadata": {},
   "source": [
    "For \"Name\", let us extract the \"FamilyName\" and also create a new feature \"FamilySize\" to count the total number of passengers under the same family name."
   ]
  },
  {
   "cell_type": "code",
   "execution_count": 970,
   "metadata": {},
   "outputs": [],
   "source": [
    "train_df['FamilyName'] = train_df['Name'].str.split(' ',expand=True)[1]\n",
    "train_df['FamilyName'] = train_df['FamilyName'].fillna('Unknown')\n",
    "\n",
    "test_df['FamilyName'] = test_df['Name'].str.split(' ',expand=True)[1]\n",
    "test_df['FamilyName'] = test_df['FamilyName'].fillna('Unknown')\n",
    "\n",
    "train_test['FamilyName'] = train_test['Name'].str.split(' ',expand=True)[1]\n",
    "train_test['FamilyName'] = train_test['FamilyName'].fillna('Unknown')\n",
    "\n",
    "family_name_dict = train_test['FamilyName'].value_counts().to_dict()\n",
    "family_name_dict['Unknown'] = 0\n",
    "\n",
    "train_df['FamilySize'] = train_df['FamilyName']\n",
    "train_df['FamilySize'] = train_df['FamilySize'].map(family_name_dict)\n",
    "\n",
    "test_df['FamilySize'] = test_df['FamilyName']\n",
    "test_df['FamilySize'] = test_df['FamilySize'].map(family_name_dict)\n",
    "\n"
   ]
  },
  {
   "cell_type": "markdown",
   "metadata": {},
   "source": [
    "Let us drop \"Name\" and \"FamilyName\"."
   ]
  },
  {
   "cell_type": "code",
   "execution_count": 971,
   "metadata": {},
   "outputs": [],
   "source": [
    "train_df.drop(columns=['Name', 'FamilyName'], inplace=True)\n",
    "test_df.drop(columns=['Name', 'FamilyName'], inplace=True)"
   ]
  },
  {
   "cell_type": "markdown",
   "metadata": {},
   "source": [
    "Let us check for NULL values again."
   ]
  },
  {
   "cell_type": "code",
   "execution_count": 972,
   "metadata": {},
   "outputs": [
    {
     "data": {
      "text/plain": [
       "HomePlanet          0\n",
       "CryoSleep           0\n",
       "Destination         0\n",
       "Age                 0\n",
       "VIP                 0\n",
       "RoomService         0\n",
       "FoodCourt           0\n",
       "ShoppingMall        0\n",
       "Spa                 0\n",
       "VRDeck              0\n",
       "Transported         0\n",
       "CabinDeck           0\n",
       "CabinSide           0\n",
       "Adult               0\n",
       "TotalExpenditure    0\n",
       "FamilySize          0\n",
       "dtype: int64"
      ]
     },
     "execution_count": 972,
     "metadata": {},
     "output_type": "execute_result"
    }
   ],
   "source": [
    "train_df.isna().sum()"
   ]
  },
  {
   "cell_type": "markdown",
   "metadata": {},
   "source": [
    "Let us convert the True and False values to 1 and 0. "
   ]
  },
  {
   "cell_type": "code",
   "execution_count": 973,
   "metadata": {},
   "outputs": [],
   "source": [
    "train_df[['CryoSleep','VIP','Transported']] = train_df[['CryoSleep','VIP','Transported']].astype(int)\n",
    "test_df[['CryoSleep','VIP']] = test_df[['CryoSleep','VIP']].astype(int)"
   ]
  },
  {
   "cell_type": "markdown",
   "metadata": {},
   "source": [
    "We have our final Data frame."
   ]
  },
  {
   "cell_type": "code",
   "execution_count": 974,
   "metadata": {},
   "outputs": [
    {
     "data": {
      "text/html": [
       "<div>\n",
       "<style scoped>\n",
       "    .dataframe tbody tr th:only-of-type {\n",
       "        vertical-align: middle;\n",
       "    }\n",
       "\n",
       "    .dataframe tbody tr th {\n",
       "        vertical-align: top;\n",
       "    }\n",
       "\n",
       "    .dataframe thead th {\n",
       "        text-align: right;\n",
       "    }\n",
       "</style>\n",
       "<table border=\"1\" class=\"dataframe\">\n",
       "  <thead>\n",
       "    <tr style=\"text-align: right;\">\n",
       "      <th></th>\n",
       "      <th>HomePlanet</th>\n",
       "      <th>CryoSleep</th>\n",
       "      <th>Destination</th>\n",
       "      <th>Age</th>\n",
       "      <th>VIP</th>\n",
       "      <th>RoomService</th>\n",
       "      <th>FoodCourt</th>\n",
       "      <th>ShoppingMall</th>\n",
       "      <th>Spa</th>\n",
       "      <th>VRDeck</th>\n",
       "      <th>Transported</th>\n",
       "      <th>CabinDeck</th>\n",
       "      <th>CabinSide</th>\n",
       "      <th>Adult</th>\n",
       "      <th>TotalExpenditure</th>\n",
       "      <th>FamilySize</th>\n",
       "    </tr>\n",
       "  </thead>\n",
       "  <tbody>\n",
       "    <tr>\n",
       "      <th>0</th>\n",
       "      <td>Y</td>\n",
       "      <td>0</td>\n",
       "      <td>A</td>\n",
       "      <td>39.0</td>\n",
       "      <td>0</td>\n",
       "      <td>0.0</td>\n",
       "      <td>0.0</td>\n",
       "      <td>0.0</td>\n",
       "      <td>0.0</td>\n",
       "      <td>0.0</td>\n",
       "      <td>0</td>\n",
       "      <td>B</td>\n",
       "      <td>B</td>\n",
       "      <td>1</td>\n",
       "      <td>0.0</td>\n",
       "      <td>3</td>\n",
       "    </tr>\n",
       "    <tr>\n",
       "      <th>1</th>\n",
       "      <td>X</td>\n",
       "      <td>0</td>\n",
       "      <td>A</td>\n",
       "      <td>24.0</td>\n",
       "      <td>0</td>\n",
       "      <td>109.0</td>\n",
       "      <td>9.0</td>\n",
       "      <td>25.0</td>\n",
       "      <td>549.0</td>\n",
       "      <td>44.0</td>\n",
       "      <td>1</td>\n",
       "      <td>F</td>\n",
       "      <td>F</td>\n",
       "      <td>1</td>\n",
       "      <td>736.0</td>\n",
       "      <td>4</td>\n",
       "    </tr>\n",
       "    <tr>\n",
       "      <th>2</th>\n",
       "      <td>Y</td>\n",
       "      <td>0</td>\n",
       "      <td>A</td>\n",
       "      <td>58.0</td>\n",
       "      <td>1</td>\n",
       "      <td>43.0</td>\n",
       "      <td>3576.0</td>\n",
       "      <td>0.0</td>\n",
       "      <td>6715.0</td>\n",
       "      <td>49.0</td>\n",
       "      <td>0</td>\n",
       "      <td>A</td>\n",
       "      <td>A</td>\n",
       "      <td>1</td>\n",
       "      <td>10383.0</td>\n",
       "      <td>7</td>\n",
       "    </tr>\n",
       "    <tr>\n",
       "      <th>3</th>\n",
       "      <td>Y</td>\n",
       "      <td>0</td>\n",
       "      <td>A</td>\n",
       "      <td>33.0</td>\n",
       "      <td>0</td>\n",
       "      <td>0.0</td>\n",
       "      <td>1283.0</td>\n",
       "      <td>371.0</td>\n",
       "      <td>3329.0</td>\n",
       "      <td>193.0</td>\n",
       "      <td>0</td>\n",
       "      <td>A</td>\n",
       "      <td>A</td>\n",
       "      <td>1</td>\n",
       "      <td>5176.0</td>\n",
       "      <td>7</td>\n",
       "    </tr>\n",
       "    <tr>\n",
       "      <th>4</th>\n",
       "      <td>X</td>\n",
       "      <td>0</td>\n",
       "      <td>A</td>\n",
       "      <td>16.0</td>\n",
       "      <td>0</td>\n",
       "      <td>303.0</td>\n",
       "      <td>70.0</td>\n",
       "      <td>151.0</td>\n",
       "      <td>565.0</td>\n",
       "      <td>2.0</td>\n",
       "      <td>1</td>\n",
       "      <td>F</td>\n",
       "      <td>F</td>\n",
       "      <td>0</td>\n",
       "      <td>1091.0</td>\n",
       "      <td>9</td>\n",
       "    </tr>\n",
       "  </tbody>\n",
       "</table>\n",
       "</div>"
      ],
      "text/plain": [
       "  HomePlanet  CryoSleep Destination   Age  VIP  RoomService  FoodCourt  \\\n",
       "0          Y          0           A  39.0    0          0.0        0.0   \n",
       "1          X          0           A  24.0    0        109.0        9.0   \n",
       "2          Y          0           A  58.0    1         43.0     3576.0   \n",
       "3          Y          0           A  33.0    0          0.0     1283.0   \n",
       "4          X          0           A  16.0    0        303.0       70.0   \n",
       "\n",
       "   ShoppingMall     Spa  VRDeck  Transported CabinDeck CabinSide  Adult  \\\n",
       "0           0.0     0.0     0.0            0         B         B      1   \n",
       "1          25.0   549.0    44.0            1         F         F      1   \n",
       "2           0.0  6715.0    49.0            0         A         A      1   \n",
       "3         371.0  3329.0   193.0            0         A         A      1   \n",
       "4         151.0   565.0     2.0            1         F         F      0   \n",
       "\n",
       "   TotalExpenditure  FamilySize  \n",
       "0               0.0           3  \n",
       "1             736.0           4  \n",
       "2           10383.0           7  \n",
       "3            5176.0           7  \n",
       "4            1091.0           9  "
      ]
     },
     "execution_count": 974,
     "metadata": {},
     "output_type": "execute_result"
    }
   ],
   "source": [
    "train_df.head()"
   ]
  },
  {
   "cell_type": "markdown",
   "metadata": {},
   "source": [
    "Let us use Min-Max scalar to scale the numerical features between 0 and 1."
   ]
  },
  {
   "cell_type": "code",
   "execution_count": 975,
   "metadata": {},
   "outputs": [],
   "source": [
    "numerical_features = ['Age','RoomService','FoodCourt','ShoppingMall','Spa','VRDeck','TotalExpenditure','FamilySize']\n",
    "\n",
    "scaler = MinMaxScaler()\n",
    "train_df_scaled = scaler.fit_transform(train_df[numerical_features])\n",
    "test_df_scaled = scaler.transform(test_df[numerical_features])\n",
    "\n",
    "train_df_scaled = pd.DataFrame(data=train_df_scaled,columns=numerical_features)\n",
    "test_df_scaled = pd.DataFrame(data=test_df_scaled,columns=numerical_features)"
   ]
  },
  {
   "cell_type": "markdown",
   "metadata": {},
   "source": [
    "For the categorical features, let us use onehot-coding to convert them into numberical values."
   ]
  },
  {
   "cell_type": "code",
   "execution_count": 976,
   "metadata": {},
   "outputs": [],
   "source": [
    "categorical_features = ['HomePlanet','CryoSleep','Destination','VIP','CabinDeck','CabinSide','Adult']\n",
    "train_df_encoded = pd.get_dummies(train_df[categorical_features])\n",
    "test_df_encoded = pd.get_dummies(test_df[categorical_features])"
   ]
  },
  {
   "cell_type": "markdown",
   "metadata": {},
   "source": [
    "Concatenating the scaled numerical features and the one-hot encoded categorical features."
   ]
  },
  {
   "cell_type": "code",
   "execution_count": 977,
   "metadata": {},
   "outputs": [],
   "source": [
    "x = pd.concat([train_df_scaled,train_df_encoded],axis=1)\n",
    "y = train_df.Transported\n",
    "X_train = pd.concat([x,y],axis=1)\n",
    "X_test = pd.concat([test_df_scaled,test_df_encoded],axis=1)\n"
   ]
  },
  {
   "cell_type": "code",
   "execution_count": 978,
   "metadata": {},
   "outputs": [
    {
     "data": {
      "image/png": "[encoded data removed]",
      "text/plain": [
       "<Figure size 700x700 with 1 Axes>"
      ]
     },
     "metadata": {
      "needs_background": "light"
     },
     "output_type": "display_data"
    }
   ],
   "source": [
    "plt.figure(figsize=(7,7),dpi=100)\n",
    "X_train.corr().Transported.abs().sort_values(ascending=True).iloc[:-1].plot.barh(color='maroon')\n",
    "plt.title(\"Correlation with 'Transported'\")\n",
    "plt.show()\n"
   ]
  },
  {
   "cell_type": "markdown",
   "metadata": {},
   "source": [
    "#### **Fitting model**"
   ]
  },
  {
   "cell_type": "code",
   "execution_count": 984,
   "metadata": {},
   "outputs": [
    {
     "name": "stderr",
     "output_type": "stream",
     "text": [
      "/Users/soumikg/opt/anaconda3/lib/python3.9/site-packages/sklearn/model_selection/_validation.py:372: FitFailedWarning: \n",
      "200 fits failed out of a total of 1200.\n",
      "The score on these train-test partitions for these parameters will be set to nan.\n",
      "If these failures are not expected, you can try to debug them by setting error_score='raise'.\n",
      "\n",
      "Below are more details about the failures:\n",
      "--------------------------------------------------------------------------------\n",
      "200 fits failed with the following error:\n",
      "Traceback (most recent call last):\n",
      "  File \"/Users/soumikg/opt/anaconda3/lib/python3.9/site-packages/sklearn/model_selection/_validation.py\", line 680, in _fit_and_score\n",
      "    estimator.fit(X_train, y_train, **fit_params)\n",
      "  File \"/Users/soumikg/opt/anaconda3/lib/python3.9/site-packages/catboost/core.py\", line 5128, in fit\n",
      "    self._fit(X, y, cat_features, text_features, embedding_features, None, sample_weight, None, None, None, None, baseline, use_best_model,\n",
      "  File \"/Users/soumikg/opt/anaconda3/lib/python3.9/site-packages/catboost/core.py\", line 2339, in _fit\n",
      "    train_params = self._prepare_train_params(\n",
      "  File \"/Users/soumikg/opt/anaconda3/lib/python3.9/site-packages/catboost/core.py\", line 2266, in _prepare_train_params\n",
      "    _check_train_params(params)\n",
      "  File \"_catboost.pyx\", line 6080, in _catboost._check_train_params\n",
      "  File \"_catboost.pyx\", line 6099, in _catboost._check_train_params\n",
      "_catboost.CatBoostError: catboost/private/libs/options/oblivious_tree_options.cpp:125: Maximum tree depth is 16\n",
      "\n",
      "  warnings.warn(some_fits_failed_message, FitFailedWarning)\n",
      "/Users/soumikg/opt/anaconda3/lib/python3.9/site-packages/sklearn/model_selection/_search.py:969: UserWarning: One or more of the test scores are non-finite: [0.76797777 0.78557734 0.78879718 0.78879751 0.79201822 0.76763301\n",
      " 0.78603691 0.78718746 0.78879725 0.7930529  0.77591482 0.78810713\n",
      " 0.78937249 0.79144344 0.79305362 0.77591482 0.78718726 0.78937255\n",
      " 0.79351373 0.79385842 0.77890571 0.78822234 0.79144297 0.79293915\n",
      " 0.79466394 0.7797113  0.78879764 0.7904079  0.79339865 0.79385882\n",
      " 0.78672703 0.79213316 0.79615992 0.79569922 0.79650501 0.78741714\n",
      " 0.79316863 0.79397383 0.7959297  0.79776938 0.78132169 0.79006287\n",
      " 0.79719552 0.79742547 0.7973108  0.78051656 0.79006261 0.79754062\n",
      " 0.79788604 0.79800039 0.78339184 0.7942045  0.80076145 0.79765582\n",
      " 0.79903619 0.78270179 0.79477948 0.79811566 0.79949662 0.80168093\n",
      " 0.78557707 0.79685063 0.80076165 0.79926574 0.80064625 0.78454206\n",
      " 0.79581516 0.79846108 0.80030148 0.79972518 0.79167312 0.79926594\n",
      " 0.80179653 0.7973098  0.7971948  0.79178813 0.80007147 0.80122135\n",
      " 0.79868997 0.7990344  0.78994819 0.80076218 0.80260172 0.80317703\n",
      " 0.79949636 0.78879844 0.79961143 0.80306249 0.80248665 0.79984099\n",
      " 0.79316923 0.80099187 0.80409677 0.80294629 0.80064644 0.79144377\n",
      " 0.79995599 0.80271726 0.80225729 0.79961117 0.79547026 0.80248671\n",
      " 0.80444213 0.80110635 0.79696458 0.79524044 0.80202681 0.80133656\n",
      " 0.80260219 0.79972598 0.80202734 0.80248632 0.79903513 0.79477988\n",
      " 0.79121282 0.8011078  0.80133623 0.79846002 0.79293915 0.79155924\n",
      " 0.79397469 0.80110734 0.80156665 0.80122155 0.79857602 0.79570041\n",
      " 0.80340784 0.80317703 0.8004161  0.79615873 0.79673589 0.80306262\n",
      " 0.80122162 0.79581463 0.79247898 0.79742614 0.80444292 0.80064545\n",
      " 0.79592937 0.79167187 0.79846128 0.80432798 0.79880584 0.79374394\n",
      " 0.79201868 0.79846135 0.80421277 0.79719466 0.79477902 0.78960165\n",
      " 0.80248738 0.79765582 0.78948796 0.78764716 0.78373601 0.8028322\n",
      " 0.79765516 0.78960251 0.7867265  0.78189448 0.79754128 0.7986915\n",
      " 0.79121296 0.78523046 0.78074479 0.7974262  0.79754015 0.78856637\n",
      " 0.78488537 0.78189468 0.79846154 0.79685056 0.78523052 0.78373482\n",
      " 0.7768335  0.79535558 0.79293815 0.78431059 0.78062985 0.77821281\n",
      " 0.79949702 0.79477948 0.78154939 0.77867344 0.7757979  0.79616078\n",
      " 0.79063712 0.77982406 0.776258   0.77763737 0.80030135 0.78315991\n",
      " 0.77602719 0.77326645 0.77464728 0.79477928 0.77913295 0.77510732\n",
      " 0.77085081 0.7748765         nan        nan        nan        nan\n",
      "        nan        nan        nan        nan        nan        nan\n",
      "        nan        nan        nan        nan        nan        nan\n",
      "        nan        nan        nan        nan        nan        nan\n",
      "        nan        nan        nan        nan        nan        nan\n",
      "        nan        nan        nan        nan        nan        nan\n",
      "        nan        nan        nan        nan        nan        nan]\n",
      "  warnings.warn(\n"
     ]
    },
    {
     "name": "stdout",
     "output_type": "stream",
     "text": [
      "Mean score: 0.8595421603589095\n",
      "Best hyperparameters: {'depth': 7, 'iterations': 400, 'l2_leaf_reg': 0.01, 'learning_rate': 0.03}\n"
     ]
    }
   ],
   "source": [
    "catboost = CatBoostClassifier(verbose = 0, random_state=42)\n",
    "catspace = {'iterations':[300,400,500,1000],\n",
    "              'learning_rate':[0.01,0.03,0.05,0.07,0.09],\n",
    "              'depth':[2,3,5,7,10,20],\n",
    "              'l2_leaf_reg': [0.05,0.01]\n",
    "             }\n",
    "\n",
    "search = GridSearchCV(catboost, catspace, cv=5)\n",
    "result = search.fit(x,y)\n",
    "print('Mean score:',result.score(x,y))\n",
    "print('Best hyperparameters:',result.best_params_)"
   ]
  },
  {
   "cell_type": "code",
   "execution_count": null,
   "metadata": {},
   "outputs": [],
   "source": []
  }
 ],
 "metadata": {
  "kernelspec": {
   "display_name": "Python 3.9.12 ('base')",
   "language": "python",
   "name": "python3"
  },
  "language_info": {
   "codemirror_mode": {
    "name": "ipython",
    "version": 3
   },
   "file_extension": ".py",
   "mimetype": "text/x-python",
   "name": "python",
   "nbconvert_exporter": "python",
   "pygments_lexer": "ipython3",
   "version": "3.9.12"
  },
  "orig_nbformat": 4,
  "vscode": {
   "interpreter": {
    "hash": "923fc291368d368aa5af0d3b9f5ee0b97721e69d96ce530cfb93b4e8b2ee917a"
   }
  }
 },
 "nbformat": 4,
 "nbformat_minor": 2
}
